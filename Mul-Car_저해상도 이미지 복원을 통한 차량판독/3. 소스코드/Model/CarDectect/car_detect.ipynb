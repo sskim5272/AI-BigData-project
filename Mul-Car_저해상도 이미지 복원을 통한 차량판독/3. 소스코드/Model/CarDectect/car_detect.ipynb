{
 "cells": [
  {
   "cell_type": "code",
   "execution_count": 17,
   "metadata": {},
   "outputs": [],
   "source": [
    "import numpy as np\n",
    "import darknet\n",
    "import cv2\n",
    "\n"
   ]
  },
  {
   "cell_type": "code",
   "execution_count": 25,
   "metadata": {},
   "outputs": [],
   "source": [
    "#다크넷에 cfg라는 모델층과 기존 학습된 weight를 연결\n",
    "net = darknet.load_net_custom(\"./yolov4.cfg\".encode('utf-8'),\"./yolov4.weights\".encode('utf-8'), 0,1)\n",
    "# 데이터도 연결 / coco.data안에는 80개의 클래스를 알아볼수있는 이름들이 있는데 그중에 car도 잇음\n",
    "meta = darknet.load_meta(\"./coco.data\".encode('utf-8'))\n"
   ]
  },
  {
   "cell_type": "code",
   "execution_count": 67,
   "metadata": {},
   "outputs": [
    {
     "data": {
      "text/plain": [
       "[(b'car',\n",
       "  0.9930176138877869,\n",
       "  (203.994384765625,\n",
       "   177.5039825439453,\n",
       "   262.8868103027344,\n",
       "   169.03968811035156)),\n",
       " (b'car',\n",
       "  0.9919708371162415,\n",
       "  (349.1592712402344,\n",
       "   145.05039978027344,\n",
       "   85.65703582763672,\n",
       "   76.93202209472656)),\n",
       " (b'car',\n",
       "  0.9428554773330688,\n",
       "  (376.9534606933594,\n",
       "   128.7550048828125,\n",
       "   47.394046783447266,\n",
       "   45.01630401611328))]"
      ]
     },
     "execution_count": 67,
     "metadata": {},
     "output_type": "execute_result"
    }
   ],
   "source": [
    "#그림 불러오기\n",
    "#여러개 불러올려면 당연히 for문해야함\n",
    "a = cv2.imread('1.png')\n",
    "\n",
    "#디텍션하기\n",
    "detections = darknet.detect_image(net, meta, a, thresh=0.9)\n",
    "detections\n",
    "\n",
    "# 나중에 다른 사진 돌리면 car말고도 다른거 인식도 하니깐 이거 있어야함\n",
    "\n",
    "# for i in range(len(detection)):\n",
    "#     if 'car' in detection[i][0]:\n",
    "    \n",
    "    \n"
   ]
  },
  {
   "cell_type": "code",
   "execution_count": 68,
   "metadata": {},
   "outputs": [],
   "source": [
    "# 이순서 대로 내뱉음\n",
    "# 203.994384765625,  x중심\n",
    "# 177.5039825439453, y중심\n",
    "# 262.8868103027344, 가로\n",
    "# 169.03968811035156 세로\n",
    "\n",
    "#하나만 뽑아봣음\n",
    "# 여러개 할려면 for문 돌려야함\n",
    "x1 = int(round((detections[0][2][0]) - (detections[0][2][2]/2.0))) # top left x1 \n",
    "y1 = int(round((detections[0][2][1]) - (detections[0][2][3]/2.0))) # top left xy \n",
    "x2 = int(round((detections[0][2][0]) + (detections[0][2][2]/2.0))) # bottom right x2 \n",
    "y2 = int(round((detections[0][2][1]) + (detections[0][2][3]/2.0))) # bottom right y2 \n",
    "image_crop = a[y1:y2,x1:x2]              \n",
    "cv2.imwrite('a_c1.png',image_crop)"
   ]
  },
  {
   "cell_type": "code",
   "execution_count": null,
   "metadata": {},
   "outputs": [],
   "source": []
  }
 ],
 "metadata": {
  "kernelspec": {
   "display_name": "Python 3",
   "language": "python",
   "name": "python3"
  },
  "language_info": {
   "codemirror_mode": {
    "name": "ipython",
    "version": 3
   },
   "file_extension": ".py",
   "mimetype": "text/x-python",
   "name": "python",
   "nbconvert_exporter": "python",
   "pygments_lexer": "ipython3",
   "version": "3.7.7"
  }
 },
 "nbformat": 4,
 "nbformat_minor": 2
}
